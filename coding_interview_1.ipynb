{
 "cells": [
  {
   "cell_type": "markdown",
   "metadata": {},
   "source": [
    "# Cracking the code interview #1\n",
    "\n",
    "## Finding the missing number in an array of numbers\n",
    "\n",
    "You are given an array of numbers $L$ which contains numbers from 1 to 1000, but a number is missing. How can you find the missing number without iterating over the array? You can use only one function on the array."
   ]
  },
  {
   "cell_type": "code",
   "execution_count": 1,
   "metadata": {},
   "outputs": [],
   "source": [
    "L = list(range(1,1001))\n",
    "L.remove(567)"
   ]
  },
  {
   "cell_type": "markdown",
   "metadata": {},
   "source": [
    "Remember that in an arithmetic progression, the sum of consecutive numbers is given by the following formula:\n",
    "\\begin{equation}\n",
    "s = \\frac{n(n+1)}{2}\n",
    "\\end{equation}"
   ]
  },
  {
   "cell_type": "code",
   "execution_count": 2,
   "metadata": {},
   "outputs": [
    {
     "name": "stdout",
     "output_type": "stream",
     "text": [
      "567.0\n"
     ]
    }
   ],
   "source": [
    "n = 1000\n",
    "s1 = n*(n+1)/2\n",
    "s2 = sum(L)\n",
    "print(s1-s2)"
   ]
  },
  {
   "cell_type": "code",
   "execution_count": null,
   "metadata": {},
   "outputs": [],
   "source": []
  }
 ],
 "metadata": {
  "kernelspec": {
   "display_name": "Python 3",
   "language": "python",
   "name": "python3"
  },
  "language_info": {
   "codemirror_mode": {
    "name": "ipython",
    "version": 3
   },
   "file_extension": ".py",
   "mimetype": "text/x-python",
   "name": "python",
   "nbconvert_exporter": "python",
   "pygments_lexer": "ipython3",
   "version": "3.7.4"
  }
 },
 "nbformat": 4,
 "nbformat_minor": 2
}
