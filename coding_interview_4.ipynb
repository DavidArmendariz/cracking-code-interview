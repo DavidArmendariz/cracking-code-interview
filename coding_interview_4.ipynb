{
 "cells": [
  {
   "cell_type": "markdown",
   "metadata": {},
   "source": [
    "# Cracking the coding interview #4\n",
    "## Hashtags as backspaces!\n",
    "\n",
    "Given two strings containing the special character \"#\" which represents a backspace, you need to print true if both the strings will be equal after processing the backspace.\n",
    "\n",
    "**Example:**\n",
    "\n",
    "**INPUT:**\n",
    "\n",
    "AS##NGD#CD#\n",
    "\n",
    "G#NGC\n",
    "\n",
    "**OUTPUT:**\n",
    "\n",
    "True\n",
    "\n",
    "**EXPLANATION:**\n",
    "\n",
    "AS##NGD#CD# after processing the backspaces becomes NGC.\n",
    "\n",
    "G#NGC after processing the backspaces becomes also NGC."
   ]
  },
  {
   "cell_type": "code",
   "execution_count": 5,
   "metadata": {},
   "outputs": [],
   "source": [
    "def process_backspaces(string):\n",
    "    result = \"\"\n",
    "    backspaces = 0\n",
    "    for character in string:\n",
    "        if character == \"#\":\n",
    "            backspaces += 1\n",
    "        else:\n",
    "            if backspaces:\n",
    "                result = result[:(-backspaces)]\n",
    "                backspaces = 0\n",
    "            result += character\n",
    "    if backspaces:\n",
    "        result = result[:(-backspaces)]\n",
    "    return result"
   ]
  },
  {
   "cell_type": "code",
   "execution_count": 8,
   "metadata": {},
   "outputs": [],
   "source": [
    "def process(string1, string2):\n",
    "    return process_backspaces(string1) == process_backspaces(string2)"
   ]
  },
  {
   "cell_type": "code",
   "execution_count": 10,
   "metadata": {},
   "outputs": [
    {
     "data": {
      "text/plain": [
       "False"
      ]
     },
     "execution_count": 10,
     "metadata": {},
     "output_type": "execute_result"
    }
   ],
   "source": [
    "process(\"AS##NGD#CD#\", \"GNGC\")"
   ]
  },
  {
   "cell_type": "code",
   "execution_count": null,
   "metadata": {},
   "outputs": [],
   "source": []
  }
 ],
 "metadata": {
  "kernelspec": {
   "display_name": "Python 3",
   "language": "python",
   "name": "python3"
  },
  "language_info": {
   "codemirror_mode": {
    "name": "ipython",
    "version": 3
   },
   "file_extension": ".py",
   "mimetype": "text/x-python",
   "name": "python",
   "nbconvert_exporter": "python",
   "pygments_lexer": "ipython3",
   "version": "3.6.9"
  }
 },
 "nbformat": 4,
 "nbformat_minor": 4
}
