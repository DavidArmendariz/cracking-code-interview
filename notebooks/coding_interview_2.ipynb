{
 "cells": [
  {
   "cell_type": "markdown",
   "metadata": {},
   "source": [
    "# Cracking the coding interview #2\n",
    "## Checking for unbalanced parentheses\n",
    "Given an expression string, write a program to find whether a given string has balanced parentheses or not.\n",
    "### Examples:\n",
    "<center>\n",
    "    <b>Input</b> : { [ ] { ( ) } } <br>\n",
    "    <b>Output</b> : Balanced <br> <br>\n",
    "    <b>Input</b> : [ { } { } ( ] <br>\n",
    "    <b>Output</b> : Unbalanced\n",
    "</center>"
   ]
  },
  {
   "cell_type": "code",
   "execution_count": 1,
   "metadata": {},
   "outputs": [],
   "source": [
    "def check_if_balanced(string):\n",
    "    open_list = ['(', '[', '{']\n",
    "    close_list = [')', ']', '}']\n",
    "    stack = []\n",
    "    for character in string:\n",
    "        if character in open_list:\n",
    "            stack.append(character)\n",
    "        elif character in close_list:\n",
    "            idx = close_list.index(character)\n",
    "            if len(stack) > 0 and stack[-1] == open_list[idx]:\n",
    "                stack.pop()\n",
    "            else:\n",
    "                return False\n",
    "    if len(stack) == 0:\n",
    "        return True"
   ]
  },
  {
   "cell_type": "code",
   "execution_count": 2,
   "metadata": {},
   "outputs": [
    {
     "data": {
      "text/plain": [
       "True"
      ]
     },
     "execution_count": 2,
     "metadata": {},
     "output_type": "execute_result"
    }
   ],
   "source": [
    "check_if_balanced(\"{ [ ] { ( ) } }\")"
   ]
  },
  {
   "cell_type": "code",
   "execution_count": 3,
   "metadata": {},
   "outputs": [
    {
     "data": {
      "text/plain": [
       "False"
      ]
     },
     "execution_count": 3,
     "metadata": {},
     "output_type": "execute_result"
    }
   ],
   "source": [
    "check_if_balanced(\"[ { } { } ( ]\")"
   ]
  },
  {
   "cell_type": "code",
   "execution_count": null,
   "metadata": {},
   "outputs": [],
   "source": []
  }
 ],
 "metadata": {
  "kernelspec": {
   "display_name": "Python 3",
   "language": "python",
   "name": "python3"
  },
  "language_info": {
   "codemirror_mode": {
    "name": "ipython",
    "version": 3
   },
   "file_extension": ".py",
   "mimetype": "text/x-python",
   "name": "python",
   "nbconvert_exporter": "python",
   "pygments_lexer": "ipython3",
   "version": "3.7.4"
  }
 },
 "nbformat": 4,
 "nbformat_minor": 2
}
