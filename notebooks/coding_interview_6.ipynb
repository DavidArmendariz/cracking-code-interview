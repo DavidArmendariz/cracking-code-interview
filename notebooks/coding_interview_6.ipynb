{
 "cells": [
  {
   "cell_type": "markdown",
   "metadata": {},
   "source": [
    "# Cracking the coding interview #6\n",
    "\n",
    "## Minimum changes to a string to make all substrings distinct\n",
    "\n",
    "Remember that a substring is a contiguous sequence of characters within a string.\n",
    "\n",
    "Consider, for example, the string `aab`. The substrings are:\n",
    "\n",
    "```\n",
    "['a','a','b','aa','ab','aab']\n",
    "```\n",
    "\n",
    "Note that not all substrings are distinct. If we delete one `a` in the original string, then we have the string `ab` and the substrings are:\n",
    "\n",
    "```\n",
    "['a','b','ab']\n",
    "```\n",
    "All the substrings are now distinct!\n",
    "\n",
    "So, the problem is: given a string, find minimum number of changes to it so that all substrings of the string become distinct.\n",
    "\n",
    "In the example above, we only needed to delete one character and then all the substrings became distinct."
   ]
  },
  {
   "cell_type": "code",
   "execution_count": 11,
   "metadata": {},
   "outputs": [],
   "source": [
    "def get_minimum_number_of_changes(word: str) -> int:\n",
    "    word_length = len(word)\n",
    "    distinct_characters = set(word)\n",
    "    return word_length - len(distinct_characters)"
   ]
  },
  {
   "cell_type": "code",
   "execution_count": 12,
   "metadata": {},
   "outputs": [
    {
     "data": {
      "text/plain": [
       "1"
      ]
     },
     "execution_count": 12,
     "metadata": {},
     "output_type": "execute_result"
    }
   ],
   "source": [
    "get_minimum_number_of_changes(\"aab\")"
   ]
  },
  {
   "cell_type": "code",
   "execution_count": null,
   "metadata": {},
   "outputs": [],
   "source": []
  }
 ],
 "metadata": {
  "kernelspec": {
   "display_name": "Python 3",
   "language": "python",
   "name": "python3"
  },
  "language_info": {
   "codemirror_mode": {
    "name": "ipython",
    "version": 3
   },
   "file_extension": ".py",
   "mimetype": "text/x-python",
   "name": "python",
   "nbconvert_exporter": "python",
   "pygments_lexer": "ipython3",
   "version": "3.8.2"
  }
 },
 "nbformat": 4,
 "nbformat_minor": 4
}
